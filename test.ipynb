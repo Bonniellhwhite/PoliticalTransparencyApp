{
 "cells": [
  {
   "cell_type": "code",
   "execution_count": 46,
   "metadata": {},
   "outputs": [
    {
     "name": "stdout",
     "output_type": "stream",
     "text": [
      "Processing Congress: 118\n"
     ]
    }
   ],
   "source": [
    "import requests\n",
    "import pandas as pd\n",
    "import csv\n",
    "import json\n",
    "\n",
    "\n",
    "# Bill API has 17817 results so I am going to drop it to 1 request, which is 250 rows\n",
    "#key = \"3abJiDguIhbNKrqAyEBsYYHbWjSTm2ZMiKwVvmYL\"\n",
    "base_url = \"https://api.congress.gov/v3/bill\"\n",
    "headers = {\n",
    "    'Content-Type': 'application/json'\n",
    "}   \n",
    "\n",
    "# Bill Section \n",
    "print(\"Processing Congress:\",118)\n",
    "params = {\n",
    "    'format': 'json',\n",
    "    'limit': 250,\n",
    "    'api_key': key\n",
    "}\n",
    "\n",
    "response = requests.get(f\"{base_url}/{118}\", headers=headers, params=params)\n",
    "data = response.json()\n",
    "\n",
    "\n",
    "\n",
    "def read_json(filename: str) -> dict: \n",
    "  \n",
    "    try: \n",
    "        with open(filename, \"r\") as f: \n",
    "            data = json.loads(f.read()) \n",
    "    except: \n",
    "        raise Exception(f\"Reading {filename} file encountered an error\") \n",
    "  \n",
    "    return data \n",
    "  \n",
    "  \n",
    "def normalize_json(data: dict) -> dict: \n",
    "  \n",
    "    new_data = dict() \n",
    "    for key, value in data.items(): \n",
    "        if not isinstance(value, dict): \n",
    "            new_data[key] = value \n",
    "        else: \n",
    "            for k, v in value.items(): \n",
    "                new_data[key + \"_\" + k] = v \n",
    "      \n",
    "    return new_data "
   ]
  },
  {
   "cell_type": "code",
   "execution_count": 47,
   "metadata": {},
   "outputs": [],
   "source": [
    "\n",
    "def flatten_dictionary(data, parent_key='', sep='_'):\n",
    "    items = []\n",
    "    for k, v in data.items():\n",
    "        new_key = f\"{parent_key}{sep}{k}\" if parent_key else k\n",
    "        if isinstance(v, dict):\n",
    "            items.extend(flatten_dictionary(v, new_key, sep=sep).items())\n",
    "        else:\n",
    "            items.append((new_key, v))\n",
    "    return dict(items)\n",
    "\n",
    "def flatten_json(json_data):\n",
    "    bills = json_data['bills']\n",
    "    flattened_data = [flatten_dictionary(bill) for bill in bills]\n",
    "    \n",
    "    # Collect all unique keys from all flattened dictionaries\n",
    "    all_keys = set()\n",
    "    for data in flattened_data:\n",
    "        all_keys.update(data.keys())\n",
    "    \n",
    "    # Convert set to sorted list to maintain consistent column order\n",
    "    headers = sorted(list(all_keys))\n",
    "    \n",
    "    with open('output.csv', 'w', newline='', encoding='utf-8') as csvfile:\n",
    "        writer = csv.DictWriter(csvfile, fieldnames=headers)\n",
    "        writer.writeheader()\n",
    "        for data in flattened_data:\n",
    "            writer.writerow(data)"
   ]
  },
  {
   "cell_type": "code",
   "execution_count": 48,
   "metadata": {},
   "outputs": [],
   "source": [
    "# Normalize the nested python dict  \n",
    "new_data = flatten_json(data) \n",
    "new_data"
   ]
  },
  {
   "cell_type": "code",
   "execution_count": null,
   "metadata": {},
   "outputs": [],
   "source": []
  }
 ],
 "metadata": {
  "kernelspec": {
   "display_name": "Python 3",
   "language": "python",
   "name": "python3"
  },
  "language_info": {
   "codemirror_mode": {
    "name": "ipython",
    "version": 3
   },
   "file_extension": ".py",
   "mimetype": "text/x-python",
   "name": "python",
   "nbconvert_exporter": "python",
   "pygments_lexer": "ipython3",
   "version": "3.10.7"
  }
 },
 "nbformat": 4,
 "nbformat_minor": 2
}
